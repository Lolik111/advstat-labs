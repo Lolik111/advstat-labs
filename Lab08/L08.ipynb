{
 "cells": [
  {
   "cell_type": "code",
   "execution_count": 32,
   "metadata": {},
   "outputs": [],
   "source": [
    "import pandas as pd\n",
    "import numpy as np\n",
    "from sklearn.linear_model import LinearRegression\n",
    "\n",
    "DS_2 = pd.read_csv(\"ds-boot-1.csv\", \"\\t\")\n",
    "DS_1 = pd.read_csv(\"ds-boot-2.csv\", \"\\t\")\n",
    "\n",
    "features = DS_1.values[:, 1:29]\n",
    "targets = DS_1.values[:, 29:].T"
   ]
  },
  {
   "cell_type": "markdown",
   "metadata": {},
   "source": [
    "## Task 1"
   ]
  },
  {
   "cell_type": "code",
   "execution_count": 34,
   "metadata": {},
   "outputs": [
    {
     "name": "stdout",
     "output_type": "stream",
     "text": [
      "y1 : mean: 4.016275 , error: 0.454842149274\n",
      "y1 : median: 4.02225 , error: 0.608841626062\n",
      "y2 : mean: 5.513125 , error: 0.552779640504\n",
      "y2 : median: 6.198375 , error: 0.67062487435\n",
      "y3 : mean: 7.29035725 , error: 0.455078784811\n",
      "y3 : median: 8.31187 , error: 0.28896124602\n",
      "y4 : mean: 1.52925675 , error: 0.109911811801\n",
      "y4 : median: 1.8607 , error: 0.127363579886\n",
      "y5 : mean: 5.621134 , error: 0.448524820449\n",
      "y5 : median: 6.181755 , error: 0.44881045643\n"
     ]
    }
   ],
   "source": [
    "def bootstrap(sample, B=1000, s_f=np.mean):\n",
    "    '''simple bootstrap'''\n",
    "    gen = np.random.choice(sample, size=(B, len(sample)))\n",
    "    estimations = s_f(gen, axis=1)\n",
    "    est_mean = estimations.mean()\n",
    "    error = (((estimations - est_mean) ** 2).sum() / (B - 1)) ** 0.5\n",
    "    return est_mean, error\n",
    "\n",
    "for i in range(1, 6):\n",
    "    est_mean, error = bootstrap(targets[i - 1], s_f=np.mean)\n",
    "    print('y' + repr(i), ': mean:', est_mean, ', error:', error)\n",
    "    est_mean, error = bootstrap(targets[i - 1], s_f=np.median)\n",
    "    print('y' + repr(i), ': median:', est_mean, ', error:', error)\n"
   ]
  },
  {
   "cell_type": "code",
   "execution_count": 35,
   "metadata": {},
   "outputs": [],
   "source": [
    "def lr(A, b):\n",
    "    '''Linear regression'''\n",
    "    model = LinearRegression()\n",
    "    model.fit(A, b)\n",
    "    return model.coef_, model.intercept_"
   ]
  },
  {
   "cell_type": "code",
   "execution_count": 41,
   "metadata": {},
   "outputs": [
    {
     "ename": "ValueError",
     "evalue": "operands could not be broadcast together with shapes (2,) (1000,29) ",
     "output_type": "error",
     "traceback": [
      "\u001b[0;31m---------------------------------------------------------------------------\u001b[0m",
      "\u001b[0;31mValueError\u001b[0m                                Traceback (most recent call last)",
      "\u001b[0;32m<ipython-input-41-5ce68827bc93>\u001b[0m in \u001b[0;36m<module>\u001b[0;34m()\u001b[0m\n\u001b[1;32m     17\u001b[0m \u001b[0;34m\u001b[0m\u001b[0m\n\u001b[1;32m     18\u001b[0m \u001b[0;32mfor\u001b[0m \u001b[0mi\u001b[0m \u001b[0;32min\u001b[0m \u001b[0mrange\u001b[0m\u001b[0;34m(\u001b[0m\u001b[0;36m1\u001b[0m\u001b[0;34m,\u001b[0m \u001b[0;36m6\u001b[0m\u001b[0;34m)\u001b[0m\u001b[0;34m:\u001b[0m\u001b[0;34m\u001b[0m\u001b[0m\n\u001b[0;32m---> 19\u001b[0;31m     \u001b[0moriginal_lr\u001b[0m\u001b[0;34m,\u001b[0m \u001b[0ml_bound\u001b[0m\u001b[0;34m,\u001b[0m \u001b[0mr_bound\u001b[0m \u001b[0;34m=\u001b[0m \u001b[0mbootstrap_ci\u001b[0m\u001b[0;34m(\u001b[0m\u001b[0mfeatures\u001b[0m\u001b[0;34m,\u001b[0m \u001b[0mtargets\u001b[0m\u001b[0;34m[\u001b[0m\u001b[0mi\u001b[0m \u001b[0;34m-\u001b[0m \u001b[0;36m1\u001b[0m\u001b[0;34m]\u001b[0m\u001b[0;34m)\u001b[0m\u001b[0;34m\u001b[0m\u001b[0m\n\u001b[0m\u001b[1;32m     20\u001b[0m \u001b[0;31m#     print('y' + repr(i), ': mean:', est_mean, ', error:', error)\u001b[0m\u001b[0;34m\u001b[0m\u001b[0;34m\u001b[0m\u001b[0m\n",
      "\u001b[0;32m<ipython-input-41-5ce68827bc93>\u001b[0m in \u001b[0;36mbootstrap_ci\u001b[0;34m(A, b, B)\u001b[0m\n\u001b[1;32m     10\u001b[0m     \u001b[0mbootstrap_cfs\u001b[0m \u001b[0;34m=\u001b[0m \u001b[0mnp\u001b[0m\u001b[0;34m.\u001b[0m\u001b[0marray\u001b[0m\u001b[0;34m(\u001b[0m\u001b[0mbootstrap_cfs\u001b[0m\u001b[0;34m)\u001b[0m\u001b[0;34m\u001b[0m\u001b[0m\n\u001b[1;32m     11\u001b[0m \u001b[0;34m\u001b[0m\u001b[0m\n\u001b[0;32m---> 12\u001b[0;31m     \u001b[0mdeltas\u001b[0m \u001b[0;34m=\u001b[0m \u001b[0moriginal_lr\u001b[0m \u001b[0;34m-\u001b[0m \u001b[0mbootstrap_cfs\u001b[0m\u001b[0;34m\u001b[0m\u001b[0m\n\u001b[0m\u001b[1;32m     13\u001b[0m     \u001b[0mdeltas_l\u001b[0m\u001b[0;34m,\u001b[0m \u001b[0mdeltas_r\u001b[0m \u001b[0;34m=\u001b[0m \u001b[0mnp\u001b[0m\u001b[0;34m.\u001b[0m\u001b[0mpercentile\u001b[0m\u001b[0;34m(\u001b[0m\u001b[0mdeltas\u001b[0m\u001b[0;34m,\u001b[0m \u001b[0;34m[\u001b[0m\u001b[0;36m2.5\u001b[0m\u001b[0;34m,\u001b[0m \u001b[0;36m97.5\u001b[0m\u001b[0;34m]\u001b[0m\u001b[0;34m,\u001b[0m \u001b[0maxis\u001b[0m \u001b[0;34m=\u001b[0m \u001b[0;36m0\u001b[0m\u001b[0;34m)\u001b[0m\u001b[0;34m\u001b[0m\u001b[0m\n\u001b[1;32m     14\u001b[0m     \u001b[0ml_bound\u001b[0m \u001b[0;34m=\u001b[0m \u001b[0moriginal_lr\u001b[0m \u001b[0;34m-\u001b[0m \u001b[0mdeltas_r\u001b[0m\u001b[0;34m\u001b[0m\u001b[0m\n",
      "\u001b[0;31mValueError\u001b[0m: operands could not be broadcast together with shapes (2,) (1000,29) "
     ]
    }
   ],
   "source": [
    "def bootstrap_ci(A, b, B=1000):\n",
    "    original_lr = lr(A, b)\n",
    "    bootstrap_cfs = []\n",
    "    n = A.shape[0]\n",
    "    for _ in range(B):\n",
    "        idx = np.random.randint(n, size=n)\n",
    "        coef, inter = lr(A[idx], b[idx])\n",
    "        arr = np.append(coef, inter)\n",
    "        bootstrap_cfs.append(arr)\n",
    "    bootstrap_cfs = np.array(bootstrap_cfs)\n",
    "    \n",
    "    deltas = original_lr - bootstrap_cfs\n",
    "    deltas_l, deltas_r = np.percentile(deltas, [2.5, 97.5], axis = 0)\n",
    "    l_bound = original_lr - deltas_r\n",
    "    r_bound = original_lr - deltas_l\n",
    "    return original_lr, l_bound, r_bound\n",
    "\n",
    "for i in range(1, 6):\n",
    "    original_lr, l_bound, r_bound = bootstrap_ci(features, targets[i - 1])\n",
    "#     print('y' + repr(i), ': mean:', est_mean, ', error:', error)\n"
   ]
  },
  {
   "cell_type": "code",
   "execution_count": null,
   "metadata": {
    "collapsed": true
   },
   "outputs": [],
   "source": []
  }
 ],
 "metadata": {
  "kernelspec": {
   "display_name": "Python 3",
   "language": "python",
   "name": "python3"
  },
  "language_info": {
   "codemirror_mode": {
    "name": "ipython",
    "version": 3
   },
   "file_extension": ".py",
   "mimetype": "text/x-python",
   "name": "python",
   "nbconvert_exporter": "python",
   "pygments_lexer": "ipython3",
   "version": "3.6.1"
  }
 },
 "nbformat": 4,
 "nbformat_minor": 2
}
