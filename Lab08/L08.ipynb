{
 "cells": [
  {
   "cell_type": "code",
   "execution_count": 1,
   "metadata": {},
   "outputs": [],
   "source": [
    "import pandas as pd\n",
    "import numpy as np\n",
    "from sklearn.linear_model import LinearRegression\n",
    "\n",
    "DS_2 = pd.read_csv(\"ds-boot-1.csv\", \"\\t\")\n",
    "DS_1 = pd.read_csv(\"ds-boot-2.csv\", \"\\t\")\n",
    "\n",
    "features = DS_1.values[:, 1:29]\n",
    "targets = DS_1.values[:, 29:].T"
   ]
  },
  {
   "cell_type": "markdown",
   "metadata": {},
   "source": [
    "## Task 1"
   ]
  },
  {
   "cell_type": "code",
   "execution_count": 2,
   "metadata": {},
   "outputs": [
    {
     "name": "stdout",
     "output_type": "stream",
     "text": [
      "y1 : mean: 4.027925 , error: 0.465628746433\n",
      "y1 : median: 4.02725 , error: 0.593440906586\n",
      "y2 : mean: 5.50609375 , error: 0.525042763308\n",
      "y2 : median: 6.168 , error: 0.652769759072\n",
      "y3 : mean: 7.31817175 , error: 0.457851970063\n",
      "y3 : median: 8.307155 , error: 0.274932298473\n",
      "y4 : mean: 1.52737575 , error: 0.107265925873\n",
      "y4 : median: 1.86793 , error: 0.13048195523\n",
      "y5 : mean: 5.638656 , error: 0.443611843994\n",
      "y5 : median: 6.17816 , error: 0.424607119118\n"
     ]
    }
   ],
   "source": [
    "def bootstrap(sample, B=1000, s_f=np.mean):\n",
    "    '''simple bootstrap'''\n",
    "    gen = np.random.choice(sample, size=(B, len(sample)))\n",
    "    estimations = s_f(gen, axis=1)\n",
    "    est_mean = estimations.mean()\n",
    "    error = (((estimations - est_mean) ** 2).sum() / (B - 1)) ** 0.5\n",
    "    return est_mean, error\n",
    "\n",
    "for i in range(1, 6):\n",
    "    est_mean, error = bootstrap(targets[i - 1], s_f=np.mean)\n",
    "    print('y' + repr(i), ': mean:', est_mean, ', error:', error)\n",
    "    est_mean, error = bootstrap(targets[i - 1], s_f=np.median)\n",
    "    print('y' + repr(i), ': median:', est_mean, ', error:', error)\n"
   ]
  },
  {
   "cell_type": "code",
   "execution_count": 3,
   "metadata": {},
   "outputs": [
    {
     "name": "stdout",
     "output_type": "stream",
     "text": [
      "y1\n",
      "cfs: [ 0.35238786 -0.0872593  -0.47204603  1.12128335 -0.32560952  0.91660928\n",
      " -1.07016296 -0.21037968 -0.18459108 -0.34269019  0.76401483  0.04013402\n",
      "  0.21971176 -0.13237054 -0.80100357  0.25559588  0.57798811 -0.12112813\n",
      " -0.41820161 -0.25960643  0.79350498 -0.11337128  0.41039151 -0.3828399\n",
      "  0.60313631  0.13697149 -0.39762446 -0.10356152]\n",
      "left bound: [-0.37794467 -0.50974016 -1.02512649 -0.12850722 -0.96085329 -0.52560612\n",
      " -1.59038313 -0.79618426 -0.8791886  -0.88096077 -0.2958594  -0.7719742\n",
      " -0.60393164 -0.62703331 -1.01818756 -0.25653039 -0.19862442 -0.68164477\n",
      " -0.85519103 -0.81868723 -0.1559852  -0.51308235 -0.02534512 -0.80988498\n",
      " -0.29240328 -0.4754043  -0.63353116 -0.56793013]\n",
      "right bound: [ 1.42002543  0.52716889  0.52021739  1.42090417  0.39608348  1.18762811\n",
      "  0.32751265  0.62593482  0.70442231  0.42541964  1.18549894  0.84824605\n",
      "  0.88245374  0.5457639   0.15065349  0.63910042  0.85328572  0.44890044\n",
      "  0.32854176  0.46997246  0.91849945  0.45162597  0.80416911  0.26635697\n",
      "  0.86712372  0.59820436  0.54403473  0.28949491]\n",
      "intercept:  -0.0456111804447 l b: -1.42316713969e-14 r b: 3.73034936274e-14\n",
      "\n",
      "y2\n",
      "cfs: [-0.09055827 -0.2050101  -0.05756693  1.03295264 -0.42786848  1.22539664\n",
      " -0.01825599 -0.68348882 -0.33734167 -0.09156443  0.49654811 -0.21745172\n",
      "  0.26198597  0.09479527 -0.7772984   0.28368651  0.4317742  -0.10643211\n",
      " -0.61382392 -0.0328918   0.79248176  0.09582615 -0.12371058 -0.11463058\n",
      "  0.57389034  0.37649207 -0.68727974 -0.25598829]\n",
      "left bound: [-1.37761122 -0.5360563  -1.15380081 -0.87577037 -0.88506523 -0.35942157\n",
      " -0.59335067 -1.39566804 -1.09375769 -0.95839975 -0.90087462 -1.02249615\n",
      " -1.00519287 -0.61922085 -1.25053531 -0.35194252 -0.53167946 -0.59987424\n",
      " -1.16509971 -1.05324867 -0.35750246 -0.47258101 -0.7583261  -0.82964181\n",
      " -0.78600284 -0.40078031 -1.22560753 -0.90303107]\n",
      "right bound: [ 0.93445262  0.84693079  0.79309575  1.37784457  1.02510355  1.88484544\n",
      "  1.6716158   0.45693103  0.86957789  0.86362605  1.44702523  1.23325731\n",
      "  0.96174801  0.94196687  0.32974546  0.80469002  0.84834735  0.70045006\n",
      "  0.4429344   0.59707553  1.16873823  0.86961309  0.39016743  0.92766403\n",
      "  1.0913913   1.12445379  0.51185097  0.46091092]\n",
      "intercept:  -0.0369538338472 l b: -1.59872115546e-14 r b: 6.13120665349e-14\n",
      "\n",
      "y3\n",
      "cfs: [ 0.05157219  0.03175493  0.149808    0.01589611  0.1029     -0.11601275\n",
      "  0.25664993  0.15280769  0.08837127  0.03041985  0.11124292  0.13854785\n",
      "  0.01647018  0.03454529  0.11762181 -0.0127462  -0.05198404 -0.0101363\n",
      "  0.07286634  0.03473763 -0.08167806 -0.03622821  0.0027341   0.04252822\n",
      " -0.08627449 -0.00458451  0.0329068  -0.02708777]\n",
      "left bound: [-0.27266069 -0.09164559 -0.10895088 -0.12053091 -0.04246033 -0.28435137\n",
      " -0.00690422 -0.0742706  -0.1352326  -0.14926175 -0.07327065 -0.04869945\n",
      " -0.17436102 -0.13578251 -0.04808879 -0.10892523 -0.19323969 -0.13834623\n",
      " -0.05986107 -0.12685329 -0.15148384 -0.18214373 -0.10001517 -0.14185367\n",
      " -0.2530331  -0.14979778 -0.14001903 -0.14269369]\n",
      "right bound: [ 0.20565009  0.15055585  0.25818147  0.30239125  0.29006482  0.24747398\n",
      "  0.48488235  0.31433118  0.30158316  0.22184703  0.30329659  0.35917426\n",
      "  0.23553608  0.20036928  0.24001047  0.10251131  0.0828032   0.13018577\n",
      "  0.20217427  0.17083913  0.11475197  0.09368672  0.11906801  0.18562622\n",
      "  0.08236751  0.14284925  0.18666043  0.07639214]\n",
      "intercept:  0.0847316882645 l b: -6.24500451352e-15 r b: 6.39488462184e-14\n",
      "\n",
      "y4\n",
      "cfs: [ 0.01330987 -0.01806422  0.02408136 -0.00582579  0.06240596  0.14586044\n",
      " -0.07231065  0.09873774  0.01525439  0.07251192 -0.00751296 -0.05317201\n",
      " -0.11767709  0.05395757 -0.04946805  0.02723831 -0.06290234  0.02062967\n",
      "  0.03490465  0.04919405  0.06451733 -0.05416554  0.01722417  0.0427531\n",
      " -0.08584441  0.03352576  0.00942436 -0.00031937]\n",
      "left bound: [-0.12305517 -0.06817679 -0.08480473 -0.09348842 -0.04715044 -0.03369142\n",
      " -0.1696894  -0.03623797 -0.07088772 -0.06210213 -0.13200872 -0.12656958\n",
      " -0.19875991 -0.04137963 -0.13673897 -0.02945032 -0.1214006  -0.04811616\n",
      " -0.04316015 -0.04593003 -0.03166873 -0.12384406 -0.04217497 -0.06097513\n",
      " -0.16519191 -0.06655075 -0.07275799 -0.06375073]\n",
      "right bound: [ 0.14659283  0.0547067   0.12870806  0.13048858  0.13667425  0.23515289\n",
      "  0.08746162  0.15723776  0.162795    0.15598645  0.10834318  0.10676072\n",
      "  0.02389505  0.13957675  0.05388495  0.09959283  0.04132252  0.11563737\n",
      "  0.11646079  0.1252775   0.14940575  0.02405253  0.08396872  0.11343329\n",
      "  0.01999589  0.10234755  0.10248034  0.06507479]\n",
      "intercept:  0.0160953487018 l b: -3.33066907388e-15 r b: 8.65973959208e-15\n",
      "\n",
      "y5\n",
      "cfs: [ 0.11478058 -0.08797598 -0.1310566   0.70544724 -0.19628257  0.69055444\n",
      " -0.32073716 -0.20902371 -0.13684635 -0.11892518  0.44968831 -0.0245689\n",
      "  0.1309239   0.00646035 -0.49038593  0.17796689  0.30054357 -0.07269012\n",
      " -0.30069499 -0.07688366  0.50625481 -0.03504067  0.11151244 -0.14514977\n",
      "  0.33628591  0.1680759  -0.33271154 -0.12115262]\n",
      "left bound: [-0.450289   -0.22799536 -0.50430178 -0.06988292 -0.40207347 -0.25889186\n",
      " -0.45176484 -0.50901227 -0.49691394 -0.44801199 -0.2066907  -0.37452667\n",
      " -0.39985182 -0.25343756 -0.59289071 -0.13890496 -0.17108775 -0.36172337\n",
      " -0.53961278 -0.43479372 -0.10247302 -0.23501132 -0.14179693 -0.41878562\n",
      " -0.26217156 -0.21128114 -0.52760438 -0.38494604]\n",
      "right bound: [ 0.49441384  0.29690548  0.35686781  0.79613272  0.2630241   0.84000149\n",
      "  0.50820458  0.27847553  0.37397696  0.27642675  0.67516003  0.51911433\n",
      "  0.55046697  0.37725287  0.10350021  0.41980512  0.4541841   0.33190126\n",
      "  0.18365977  0.2279529   0.59261849  0.34136513  0.31311669  0.26692525\n",
      "  0.45335434  0.44156456  0.28544932  0.12081776]\n",
      "intercept:  0.00250827824928 l b: -9.7699626167e-15 r b: 5.06261699229e-14\n",
      "\n"
     ]
    }
   ],
   "source": [
    "def lr(A, b):\n",
    "    '''Linear regression'''\n",
    "    model = LinearRegression()\n",
    "    model.fit(A, b)\n",
    "    return np.concatenate([model.coef_, [model.intercept_]])\n",
    "\n",
    "def bootstrap_ci(A, b, B=1000):\n",
    "    original_lr = lr(A, b)\n",
    "    bootstrap_cfs = []\n",
    "    n = A.shape[0]\n",
    "    for _ in range(B):\n",
    "        idx = np.random.randint(n, size=n)\n",
    "        bootstrap_cfs.append(lr(A[idx], b[idx]))\n",
    "    deltas = original_lr - np.array(bootstrap_cfs)    # like on the lectures\n",
    "    deltas_l, deltas_r = np.percentile(deltas, [2.5, 97.5], axis = 0)\n",
    "    l_bound = original_lr - deltas_r\n",
    "    r_bound = original_lr - deltas_l\n",
    "    return original_lr, l_bound, r_bound   # intercept is the last coeff\n",
    "\n",
    "for i in range(1, 6):\n",
    "    original_lr, l_bound, r_bound = bootstrap_ci(features, targets[i - 1])\n",
    "    print('y' + repr(i))\n",
    "    print('cfs:',original_lr[:-1])\n",
    "    print('left bound:', l_bound[:-1])\n",
    "    print('right bound:', r_bound[:-1])\n",
    "    print('intercept: ', original_lr[-1], 'l b:', l_bound[-1], 'r b:', r_bound[-1])\n",
    "    print()\n"
   ]
  },
  {
   "cell_type": "markdown",
   "metadata": {},
   "source": [
    "## Task2"
   ]
  },
  {
   "cell_type": "code",
   "execution_count": 21,
   "metadata": {},
   "outputs": [],
   "source": [
    "import matplotlib.pyplot as plt\n",
    "# from cvxpy import *\n",
    "from scipy.optimize import minimize\n",
    "%matplotlib inline\n",
    "time = DS_2.values.T[0]\n",
    "bugpd = DS_2.values.T[1]\n",
    "bugs = DS_2.values.T[2]"
   ]
  },
  {
   "cell_type": "code",
   "execution_count": 22,
   "metadata": {},
   "outputs": [
    {
     "name": "stdout",
     "output_type": "stream",
     "text": [
      "[  8.50661571e+03   1.86594978e-03]\n"
     ]
    },
    {
     "data": {
      "text/plain": [
       "[<matplotlib.lines.Line2D at 0x7fec53b816d8>]"
      ]
     },
     "execution_count": 22,
     "metadata": {},
     "output_type": "execute_result"
    },
    {
     "data": {
      "image/png": "[encoded data removed]",
      "text/plain": [
       "<matplotlib.figure.Figure at 0x7fec53a83e80>"
      ]
     },
     "metadata": {},
     "output_type": "display_data"
    }
   ],
   "source": [
    "def gos(a, b, t):\n",
    "    return a * (1 - (1 + b * t) * np.exp(-b * t))\n",
    "\n",
    "\n",
    "\n",
    "def optimize(time, bugs):\n",
    "    def loss(x):\n",
    "        return np.linalg.norm(gos(x[0], x[1], time) - bugs)\n",
    "    return minimize(loss,  [1., 1.], bounds=((0, None), (0, None))).x\n",
    "\n",
    "cfs = optimize(time, bugs)\n",
    "print(cfs)\n",
    "plt.plot(gos(cfs[0], cfs[1], time))\n",
    "plt.plot(bugs)"
   ]
  },
  {
   "cell_type": "code",
   "execution_count": 55,
   "metadata": {},
   "outputs": [],
   "source": [
    "sample_size = 1000\n",
    "B = 1000\n",
    "bs_coefs = []\n",
    "for i in range(B):\n",
    "#     start_ind = np.random.randint(0, len(time) - sample_size * 2)\n",
    "    bst = np.random.choice(np.array(range(0, len(time))), sample_size, replace=False)\n",
    "    bst = np.sort(bst)\n",
    "    t = time[bst]\n",
    "    b = np.cumsum(bugpd[bst])\n",
    "    bs_coefs.append(optimize(t, b))\n",
    "bs_coefs = np.array(bs_coefs)"
   ]
  },
  {
   "cell_type": "code",
   "execution_count": 58,
   "metadata": {},
   "outputs": [
    {
     "name": "stdout",
     "output_type": "stream",
     "text": [
      "[  8.50661571e+03   1.86594978e-03]\n",
      "[  4.39783483e+03   1.72038054e-03]\n",
      "[  7.06536774e+03   2.96145815e-03]\n"
     ]
    }
   ],
   "source": [
    "deltas = cfs - bs_coefs\n",
    "deltas_l, deltas_r = np.percentile(deltas, [2.5, 97.5], axis = 0)\n",
    "l_bound = cfs - deltas_r\n",
    "r_bound = cfs - deltas_l\n",
    "print(cfs)\n",
    "print(l_bound)\n",
    "print(r_bound)\n",
    "b_m = np.mean(bs_coefs, axis=0)"
   ]
  },
  {
   "cell_type": "code",
   "execution_count": 59,
   "metadata": {},
   "outputs": [
    {
     "data": {
      "text/plain": [
       "[<matplotlib.lines.Line2D at 0x7fec52f1a860>]"
      ]
     },
     "execution_count": 59,
     "metadata": {},
     "output_type": "execute_result"
    },
    {
     "data": {
      "image/png": "[encoded data removed]",
      "text/plain": [
       "<matplotlib.figure.Figure at 0x7fec52e45b00>"
      ]
     },
     "metadata": {},
     "output_type": "display_data"
    }
   ],
   "source": [
    "plt.plot(gos(b_m[0], b_m[1], time))\n",
    "plt.plot(bugs)"
   ]
  },
  {
   "cell_type": "code",
   "execution_count": null,
   "metadata": {
    "collapsed": true
   },
   "outputs": [],
   "source": []
  }
 ],
 "metadata": {
  "kernelspec": {
   "display_name": "Python 3",
   "language": "python",
   "name": "python3"
  },
  "language_info": {
   "codemirror_mode": {
    "name": "ipython",
    "version": 3
   },
   "file_extension": ".py",
   "mimetype": "text/x-python",
   "name": "python",
   "nbconvert_exporter": "python",
   "pygments_lexer": "ipython3",
   "version": "3.6.1"
  }
 },
 "nbformat": 4,
 "nbformat_minor": 2
}
