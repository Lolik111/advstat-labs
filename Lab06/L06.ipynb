{
 "cells": [
  {
   "cell_type": "code",
   "execution_count": 44,
   "metadata": {},
   "outputs": [
    {
     "name": "stdout",
     "output_type": "stream",
     "text": [
      "alpha: 0.042946892902746767\n",
      "0.023413553894556571 H0 true\n",
      "0.052225795606526605 H1 false\n",
      "0.080103091808841453 H1 false\n",
      "0.53615733373928987 H1 false\n"
     ]
    }
   ],
   "source": [
    "from scipy.stats import norm\n",
    "import numpy as np\n",
    "import matplotlib.pyplot as plt\n",
    "\n",
    "\n",
    "N = 1000\n",
    "\n",
    "\n",
    "\n",
    "def cdf(sample, x):\n",
    "    res = np.where(x < sample)\n",
    "    r = res[0] if res else 1.\n",
    "    return r\n",
    "\n",
    "\n",
    "def calc_d_score(sample):\n",
    "    D = -1.\n",
    "    for i in range(N):\n",
    "        z = max(norm.cdf(sample[i]) - (i - 1.)/N, (i + 0.) / N - norm.cdf(sample[i]))\n",
    "        if D < z:\n",
    "            D = z\n",
    "    return D\n",
    "\n",
    "\n",
    "alpha = 1.3581/np.sqrt(N)\n",
    "\n",
    "print(\"alpha: \" + repr(alpha))\n",
    "\n",
    "arr = np.random.normal(size=N)\n",
    "arr = np.sort(sample)\n",
    "Y1 = calc_d_score(arr)\n",
    "print(repr(Y1) + \" \" + (\"H0 true\" if Y1 < alpha else \"H1 false\") )\n",
    "\n",
    "arr = np.random.laplace(size=N)\n",
    "arr = np.sort(arr)\n",
    "Y2 = calc_d_score(arr)\n",
    "print(repr(Y2) + \" \" + (\"H0 true\" if Y2 < alpha else \"H1 false\") )\n",
    "\n",
    "\n",
    "arr = np.random.standard_t(3, size=N)\n",
    "arr = np.sort(arr)\n",
    "Y3 = calc_d_score(arr)\n",
    "print(repr(Y3) + \" \" + (\"H0 true\" if Y3 < alpha else \"H1 false\") )\n",
    "\n",
    "\n",
    "arr = np.random.lognormal(size=N)\n",
    "arr = np.sort(arr)\n",
    "Y4 = calc_d_score(arr)\n",
    "print(repr(Y4) + \" \" + (\"H0 true\" if Y4 < alpha else \"H1 false\") )\n",
    "\n",
    "\n"
   ]
  },
  {
   "cell_type": "code",
   "execution_count": 45,
   "metadata": {},
   "outputs": [
    {
     "name": "stdout",
     "output_type": "stream",
     "text": [
      "0.536157333739\n"
     ]
    }
   ],
   "source": [
    "import pandas as pd\n",
    "data = pd.read_csv('dataset1.txt', header=None)\n",
    "data = np.sort(arr)\n",
    "Y5 = calc_d_score(data)\n",
    "print(Y5)\n"
   ]
  },
  {
   "cell_type": "code",
   "execution_count": null,
   "metadata": {
    "collapsed": true
   },
   "outputs": [],
   "source": []
  }
 ],
 "metadata": {
  "kernelspec": {
   "display_name": "Python 3",
   "language": "python",
   "name": "python3"
  },
  "language_info": {
   "codemirror_mode": {
    "name": "ipython",
    "version": 3
   },
   "file_extension": ".py",
   "mimetype": "text/x-python",
   "name": "python",
   "nbconvert_exporter": "python",
   "pygments_lexer": "ipython3",
   "version": "3.6.1"
  }
 },
 "nbformat": 4,
 "nbformat_minor": 2
}
